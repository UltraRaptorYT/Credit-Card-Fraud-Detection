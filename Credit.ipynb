{
 "cells": [
  {
   "cell_type": "markdown",
   "metadata": {},
   "source": [
    "# Credit Card Fraud Detection using Anomaly Detection\n",
    "\n",
    "Name: Soh Hong Yu<br/><br/>\n",
    "Admin Number: P2100775<br/><br/>\n",
    "Class: DAAA/FT/2A/01<br/><br/>\n",
    "Module Code: ST1511 AI and Machine Learning<br/>\n",
    "\n",
    "<hr>\n"
   ]
  },
  {
   "cell_type": "markdown",
   "metadata": {},
   "source": [
    "# Initialising Libraries\n"
   ]
  },
  {
   "cell_type": "code",
   "execution_count": 1,
   "metadata": {},
   "outputs": [],
   "source": [
    "import numpy as np\n",
    "from numpy import ma\n",
    "import pandas as pd\n",
    "import math\n",
    "import matplotlib\n",
    "import matplotlib.pyplot as plt\n",
    "import matplotlib.colors as colors\n",
    "from matplotlib import ticker, cm\n",
    "from matplotlib.pyplot import figure\n",
    "import seaborn as sns\n",
    "\n",
    "from scipy.stats import multivariate_normal\n",
    "from sklearn.metrics import (\n",
    "    f1_score,\n",
    "    confusion_matrix,\n",
    "    classification_report,\n",
    "    precision_recall_fscore_support,\n",
    ")\n",
    "from sklearn.preprocessing import StandardScaler\n",
    "from sklearn.decomposition import PCA\n",
    "from sklearn.neighbors import LocalOutlierFactor\n",
    "from sklearn.ensemble import IsolationForest\n",
    "from sklearn.covariance import EllipticEnvelope\n",
    "from sklearn.svm import OneClassSVM\n",
    "\n",
    "from keras.models import Model, load_model\n",
    "from keras.layers import Input, Dense\n",
    "from keras.callbacks import ModelCheckpoint, TensorBoard\n",
    "from keras import regularizers\n"
   ]
  },
  {
   "cell_type": "markdown",
   "metadata": {},
   "source": [
    "# Initialising of Dataset\n"
   ]
  },
  {
   "cell_type": "code",
   "execution_count": 2,
   "metadata": {},
   "outputs": [
    {
     "name": "stdout",
     "output_type": "stream",
     "text": [
      "(284807, 31)\n",
      "Index(['Time', 'V1', 'V2', 'V3', 'V4', 'V5', 'V6', 'V7', 'V8', 'V9', 'V10',\n",
      "       'V11', 'V12', 'V13', 'V14', 'V15', 'V16', 'V17', 'V18', 'V19', 'V20',\n",
      "       'V21', 'V22', 'V23', 'V24', 'V25', 'V26', 'V27', 'V28', 'Amount',\n",
      "       'Class'],\n",
      "      dtype='object')\n"
     ]
    }
   ],
   "source": [
    "dfRaw = pd.read_csv(\"./creditcard.csv\")\n",
    "print(dfRaw.shape)\n",
    "print(dfRaw.columns)\n"
   ]
  },
  {
   "cell_type": "code",
   "execution_count": 3,
   "metadata": {},
   "outputs": [
    {
     "name": "stdout",
     "output_type": "stream",
     "text": [
      "data  (284807, 31)\n",
      "normal_data  (284315, 31)\n",
      "fraud_data  (492, 31)\n",
      "Percent fraud  0.173 %\n"
     ]
    },
    {
     "data": {
      "text/html": [
       "<div>\n",
       "<style scoped>\n",
       "    .dataframe tbody tr th:only-of-type {\n",
       "        vertical-align: middle;\n",
       "    }\n",
       "\n",
       "    .dataframe tbody tr th {\n",
       "        vertical-align: top;\n",
       "    }\n",
       "\n",
       "    .dataframe thead th {\n",
       "        text-align: right;\n",
       "    }\n",
       "</style>\n",
       "<table border=\"1\" class=\"dataframe\">\n",
       "  <thead>\n",
       "    <tr style=\"text-align: right;\">\n",
       "      <th></th>\n",
       "      <th>Time</th>\n",
       "      <th>V1</th>\n",
       "      <th>V2</th>\n",
       "      <th>V3</th>\n",
       "      <th>V4</th>\n",
       "      <th>V5</th>\n",
       "      <th>V6</th>\n",
       "      <th>V7</th>\n",
       "      <th>V8</th>\n",
       "      <th>V9</th>\n",
       "      <th>...</th>\n",
       "      <th>V21</th>\n",
       "      <th>V22</th>\n",
       "      <th>V23</th>\n",
       "      <th>V24</th>\n",
       "      <th>V25</th>\n",
       "      <th>V26</th>\n",
       "      <th>V27</th>\n",
       "      <th>V28</th>\n",
       "      <th>Amount</th>\n",
       "      <th>Class</th>\n",
       "    </tr>\n",
       "  </thead>\n",
       "  <tbody>\n",
       "    <tr>\n",
       "      <th>0</th>\n",
       "      <td>0.0</td>\n",
       "      <td>-1.359807</td>\n",
       "      <td>-0.072781</td>\n",
       "      <td>2.536347</td>\n",
       "      <td>1.378155</td>\n",
       "      <td>-0.338321</td>\n",
       "      <td>0.462388</td>\n",
       "      <td>0.239599</td>\n",
       "      <td>0.098698</td>\n",
       "      <td>0.363787</td>\n",
       "      <td>...</td>\n",
       "      <td>-0.018307</td>\n",
       "      <td>0.277838</td>\n",
       "      <td>-0.110474</td>\n",
       "      <td>0.066928</td>\n",
       "      <td>0.128539</td>\n",
       "      <td>-0.189115</td>\n",
       "      <td>0.133558</td>\n",
       "      <td>-0.021053</td>\n",
       "      <td>149.62</td>\n",
       "      <td>0</td>\n",
       "    </tr>\n",
       "    <tr>\n",
       "      <th>1</th>\n",
       "      <td>0.0</td>\n",
       "      <td>1.191857</td>\n",
       "      <td>0.266151</td>\n",
       "      <td>0.166480</td>\n",
       "      <td>0.448154</td>\n",
       "      <td>0.060018</td>\n",
       "      <td>-0.082361</td>\n",
       "      <td>-0.078803</td>\n",
       "      <td>0.085102</td>\n",
       "      <td>-0.255425</td>\n",
       "      <td>...</td>\n",
       "      <td>-0.225775</td>\n",
       "      <td>-0.638672</td>\n",
       "      <td>0.101288</td>\n",
       "      <td>-0.339846</td>\n",
       "      <td>0.167170</td>\n",
       "      <td>0.125895</td>\n",
       "      <td>-0.008983</td>\n",
       "      <td>0.014724</td>\n",
       "      <td>2.69</td>\n",
       "      <td>0</td>\n",
       "    </tr>\n",
       "    <tr>\n",
       "      <th>2</th>\n",
       "      <td>1.0</td>\n",
       "      <td>-1.358354</td>\n",
       "      <td>-1.340163</td>\n",
       "      <td>1.773209</td>\n",
       "      <td>0.379780</td>\n",
       "      <td>-0.503198</td>\n",
       "      <td>1.800499</td>\n",
       "      <td>0.791461</td>\n",
       "      <td>0.247676</td>\n",
       "      <td>-1.514654</td>\n",
       "      <td>...</td>\n",
       "      <td>0.247998</td>\n",
       "      <td>0.771679</td>\n",
       "      <td>0.909412</td>\n",
       "      <td>-0.689281</td>\n",
       "      <td>-0.327642</td>\n",
       "      <td>-0.139097</td>\n",
       "      <td>-0.055353</td>\n",
       "      <td>-0.059752</td>\n",
       "      <td>378.66</td>\n",
       "      <td>0</td>\n",
       "    </tr>\n",
       "    <tr>\n",
       "      <th>3</th>\n",
       "      <td>1.0</td>\n",
       "      <td>-0.966272</td>\n",
       "      <td>-0.185226</td>\n",
       "      <td>1.792993</td>\n",
       "      <td>-0.863291</td>\n",
       "      <td>-0.010309</td>\n",
       "      <td>1.247203</td>\n",
       "      <td>0.237609</td>\n",
       "      <td>0.377436</td>\n",
       "      <td>-1.387024</td>\n",
       "      <td>...</td>\n",
       "      <td>-0.108300</td>\n",
       "      <td>0.005274</td>\n",
       "      <td>-0.190321</td>\n",
       "      <td>-1.175575</td>\n",
       "      <td>0.647376</td>\n",
       "      <td>-0.221929</td>\n",
       "      <td>0.062723</td>\n",
       "      <td>0.061458</td>\n",
       "      <td>123.50</td>\n",
       "      <td>0</td>\n",
       "    </tr>\n",
       "    <tr>\n",
       "      <th>4</th>\n",
       "      <td>2.0</td>\n",
       "      <td>-1.158233</td>\n",
       "      <td>0.877737</td>\n",
       "      <td>1.548718</td>\n",
       "      <td>0.403034</td>\n",
       "      <td>-0.407193</td>\n",
       "      <td>0.095921</td>\n",
       "      <td>0.592941</td>\n",
       "      <td>-0.270533</td>\n",
       "      <td>0.817739</td>\n",
       "      <td>...</td>\n",
       "      <td>-0.009431</td>\n",
       "      <td>0.798278</td>\n",
       "      <td>-0.137458</td>\n",
       "      <td>0.141267</td>\n",
       "      <td>-0.206010</td>\n",
       "      <td>0.502292</td>\n",
       "      <td>0.219422</td>\n",
       "      <td>0.215153</td>\n",
       "      <td>69.99</td>\n",
       "      <td>0</td>\n",
       "    </tr>\n",
       "  </tbody>\n",
       "</table>\n",
       "<p>5 rows × 31 columns</p>\n",
       "</div>"
      ],
      "text/plain": [
       "   Time        V1        V2        V3        V4        V5        V6        V7  \\\n",
       "0   0.0 -1.359807 -0.072781  2.536347  1.378155 -0.338321  0.462388  0.239599   \n",
       "1   0.0  1.191857  0.266151  0.166480  0.448154  0.060018 -0.082361 -0.078803   \n",
       "2   1.0 -1.358354 -1.340163  1.773209  0.379780 -0.503198  1.800499  0.791461   \n",
       "3   1.0 -0.966272 -0.185226  1.792993 -0.863291 -0.010309  1.247203  0.237609   \n",
       "4   2.0 -1.158233  0.877737  1.548718  0.403034 -0.407193  0.095921  0.592941   \n",
       "\n",
       "         V8        V9  ...       V21       V22       V23       V24       V25  \\\n",
       "0  0.098698  0.363787  ... -0.018307  0.277838 -0.110474  0.066928  0.128539   \n",
       "1  0.085102 -0.255425  ... -0.225775 -0.638672  0.101288 -0.339846  0.167170   \n",
       "2  0.247676 -1.514654  ...  0.247998  0.771679  0.909412 -0.689281 -0.327642   \n",
       "3  0.377436 -1.387024  ... -0.108300  0.005274 -0.190321 -1.175575  0.647376   \n",
       "4 -0.270533  0.817739  ... -0.009431  0.798278 -0.137458  0.141267 -0.206010   \n",
       "\n",
       "        V26       V27       V28  Amount  Class  \n",
       "0 -0.189115  0.133558 -0.021053  149.62      0  \n",
       "1  0.125895 -0.008983  0.014724    2.69      0  \n",
       "2 -0.139097 -0.055353 -0.059752  378.66      0  \n",
       "3 -0.221929  0.062723  0.061458  123.50      0  \n",
       "4  0.502292  0.219422  0.215153   69.99      0  \n",
       "\n",
       "[5 rows x 31 columns]"
      ]
     },
     "execution_count": 3,
     "metadata": {},
     "output_type": "execute_result"
    }
   ],
   "source": [
    "data = dfRaw.copy()\n",
    "normal_data = data.loc[data[\"Class\"] == 0]\n",
    "fraud_data = data.loc[data[\"Class\"] == 1]\n",
    "\n",
    "print(\"data \", data.shape)\n",
    "print(\"normal_data \", normal_data.shape)\n",
    "print(\"fraud_data \", fraud_data.shape)\n",
    "print(\"Percent fraud \", round(100 * 492 / 284807, 3), \"%\")\n",
    "data.head()\n"
   ]
  },
  {
   "cell_type": "markdown",
   "metadata": {},
   "source": [
    "# Exploratory Data Analysis\n"
   ]
  },
  {
   "cell_type": "code",
   "execution_count": 4,
   "metadata": {},
   "outputs": [
    {
     "name": "stdout",
     "output_type": "stream",
     "text": [
      "Mean 88.29102242225574 122.21132113821133\n",
      "Median 22.0 9.25\n"
     ]
    },
    {
     "data": {
      "image/png": "[encoded data removed]",
      "text/plain": [
       "<Figure size 432x288 with 1 Axes>"
      ]
     },
     "metadata": {
      "needs_background": "light"
     },
     "output_type": "display_data"
    },
    {
     "data": {
      "image/png": "[encoded data removed]",
      "text/plain": [
       "<Figure size 432x288 with 1 Axes>"
      ]
     },
     "metadata": {
      "needs_background": "light"
     },
     "output_type": "display_data"
    },
    {
     "data": {
      "text/plain": [
       "<Figure size 432x288 with 0 Axes>"
      ]
     },
     "metadata": {},
     "output_type": "display_data"
    }
   ],
   "source": [
    "normal_data[\"Amount\"].loc[normal_data[\"Amount\"] < 500].hist(bins=100)\n",
    "plt.figure()\n",
    "fraud_data[\"Amount\"].loc[fraud_data[\"Amount\"] < 500].hist(bins=100)\n",
    "plt.figure()\n",
    "print(\"Mean\", normal_data[\"Amount\"].mean(), fraud_data[\"Amount\"].mean())\n",
    "print(\"Median\", normal_data[\"Amount\"].median(), fraud_data[\"Amount\"].median())\n"
   ]
  },
  {
   "cell_type": "code",
   "execution_count": 5,
   "metadata": {},
   "outputs": [
    {
     "data": {
      "image/png": "[encoded data removed]",
      "text/plain": [
       "<Figure size 1440x720 with 2 Axes>"
      ]
     },
     "metadata": {
      "needs_background": "light"
     },
     "output_type": "display_data"
    }
   ],
   "source": [
    "fig, (ax1, ax2) = plt.subplots(1, 2, figsize=(20, 10))\n",
    "normal_data[\"Time\"].hist(bins=100, ax=ax1)\n",
    "ax1.set_title(\"Normal Transaction Time\")\n",
    "fraud_data[\"Time\"].hist(bins=100, ax=ax2)\n",
    "ax2.set_title(\"Fraud Transaction Time\")\n",
    "plt.show()\n"
   ]
  },
  {
   "cell_type": "markdown",
   "metadata": {},
   "source": [
    "# Standardisation\n"
   ]
  },
  {
   "cell_type": "code",
   "execution_count": 6,
   "metadata": {},
   "outputs": [
    {
     "name": "stdout",
     "output_type": "stream",
     "text": [
      "data  (284807, 31)\n",
      "normal_data  (284315, 31)\n",
      "fraud_data  (492, 31)\n",
      "Percent fraud  0.1727 %\n"
     ]
    }
   ],
   "source": [
    "#  SCALER / Normalization\n",
    "\n",
    "data = dfRaw.copy()\n",
    "scl = StandardScaler()\n",
    "all_cols = list(data)[:]\n",
    "pca_columns = list(data)[:-1]  # all cols without Class\n",
    "Xcopy = data[pca_columns]\n",
    "XcopyALL = data[all_cols]\n",
    "Xscaled = scl.fit_transform(Xcopy)\n",
    "OnlyClass = data[\"Class\"].values.reshape(-1, 1)\n",
    "data = np.concatenate((Xscaled, OnlyClass), axis=1)\n",
    "data = pd.DataFrame(data, columns=XcopyALL.columns)\n",
    "\n",
    "normal_data = data.loc[data[\"Class\"] == 0]\n",
    "fraud_data = data.loc[data[\"Class\"] == 1]\n",
    "\n",
    "print(\"data \", data.shape)\n",
    "print(\"normal_data \", normal_data.shape)\n",
    "print(\"fraud_data \", fraud_data.shape)\n",
    "print(\"Percent fraud \", round(100 * 492 / 284807, 4), \"%\")\n",
    "\n"
   ]
  },
  {
   "cell_type": "code",
   "execution_count": 7,
   "metadata": {},
   "outputs": [
    {
     "data": {
      "image/png": "[encoded data removed]",
      "text/plain": [
       "<Figure size 1440x720 with 2 Axes>"
      ]
     },
     "metadata": {
      "needs_background": "light"
     },
     "output_type": "display_data"
    }
   ],
   "source": [
    "fig, (ax1, ax2) = plt.subplots(1, 2, figsize=(20, 10))\n",
    "normal_data[\"Time\"].hist(bins=100, ax=ax1)\n",
    "ax1.set_title(\"Normal Transaction Time (scaled)\")\n",
    "fraud_data[\"Time\"].hist(bins=100, ax=ax2)\n",
    "ax2.set_title(\"Fraud Transaction Time (scaled)\")\n",
    "plt.show()\n"
   ]
  },
  {
   "cell_type": "markdown",
   "metadata": {},
   "source": [
    "# Splitting data\n"
   ]
  },
  {
   "cell_type": "code",
   "execution_count": 8,
   "metadata": {},
   "outputs": [
    {
     "name": "stdout",
     "output_type": "stream",
     "text": [
      "normal_pca_data  (284315, 30)\n",
      "fraud_pca_data (492, 30)\n",
      "Fraud data only in Test with NONE in the training\n",
      "X_train  (209315, 30)\n",
      "X_test  (75492, 30)\n",
      "y_test  (75492,)\n",
      "X_inliers  (75000, 30)\n",
      "X_outliers  (492, 30)\n",
      "X  (75492, 30)\n",
      "n_outliers  492\n",
      "percent fraud in test:  0.0065172468605945\n"
     ]
    }
   ],
   "source": [
    "normal_pca_data = normal_data[pca_columns]\n",
    "fraud_pca_data = fraud_data[pca_columns]\n",
    "\n",
    "num_test = 75000\n",
    "shuffled_data = normal_pca_data.sample(frac=1, random_state=1960)[:-num_test].values\n",
    "X_train = shuffled_data\n",
    "\n",
    "X_test = np.concatenate([shuffled_data[-num_test:], fraud_pca_data[:]])\n",
    "y_test = np.concatenate([np.zeros(num_test), np.ones(492)])\n",
    "\n",
    "print(\"normal_pca_data \", normal_pca_data.shape)\n",
    "print(\"fraud_pca_data\", fraud_pca_data.shape)\n",
    "print(\"Fraud data only in Test with NONE in the training\")\n",
    "print(\"X_train \", X_train.shape)\n",
    "# print(\"X_valid \", X_valid.shape)\n",
    "# print(\"y_valid \", y_valid.shape)\n",
    "print(\"X_test \", X_test.shape)\n",
    "print(\"y_test \", y_test.shape)\n",
    "\n",
    "X_inliers = shuffled_data[-num_test:]\n",
    "X_outliers = fraud_pca_data[:]\n",
    "X = np.r_[X_inliers, X_outliers]\n",
    "\n",
    "n_outliers = len(X_outliers)\n",
    "ground_truth = np.ones(len(X), dtype=int)\n",
    "ground_truth[-n_outliers:] = -1\n",
    "\n",
    "PercFraud = n_outliers / X_test.shape[0]\n",
    "PercFraud\n",
    "\n",
    "print(\"X_inliers \", X_inliers.shape)\n",
    "print(\"X_outliers \", X_outliers.shape)\n",
    "print(\"X \", X.shape)\n",
    "print(\"n_outliers \", n_outliers)\n",
    "print(\"percent fraud in test: \", PercFraud)\n",
    "\n"
   ]
  },
  {
   "cell_type": "markdown",
   "metadata": {},
   "source": [
    "# Isolation Forest\n"
   ]
  },
  {
   "cell_type": "code",
   "execution_count": 9,
   "metadata": {},
   "outputs": [
    {
     "name": "stdout",
     "output_type": "stream",
     "text": [
      "530\n"
     ]
    }
   ],
   "source": [
    "from sklearn.ensemble import IsolationForest\n",
    "isofo = IsolationForest(\n",
    "    n_estimators=1050,\n",
    "    max_features=1.0,\n",
    "    max_samples=1.0,\n",
    "    bootstrap=False,\n",
    "    random_state=22,\n",
    "    contamination=PercFraud,\n",
    ")\n",
    "\n",
    "y_pred = isofo.fit_predict(X)\n",
    "n_errors = (y_pred != ground_truth).sum()\n",
    "n_errors\n"
   ]
  },
  {
   "cell_type": "code",
   "execution_count": 10,
   "metadata": {},
   "outputs": [
    {
     "name": "stdout",
     "output_type": "stream",
     "text": [
      "precision  0.4614\n",
      "recall  0.4614\n",
      "F1 score on Test 0.4614\n"
     ]
    }
   ],
   "source": [
    "y_predLOF = y_pred.copy()\n",
    "y_predDF = pd.DataFrame(y_predLOF)\n",
    "\n",
    "y_predDF[y_predDF[0] == 1] = 0\n",
    "y_predDF[y_predDF[0] == -1] = 1\n",
    "\n",
    "y_predLOF = y_predDF.values\n",
    "y_predLOF = np.ravel(y_predLOF)\n",
    "\n",
    "# F1 Score\n",
    "# print(\"F1 score\", round(f1_score(y_valid,pred, average='binary'), 4))\n",
    "precision, recall, fbeta_score, support = precision_recall_fscore_support(\n",
    "    y_test, y_predLOF, average=\"binary\"\n",
    ")\n",
    "print(\"precision \", round((precision), 4))\n",
    "print(\"recall \", round((recall), 4))\n",
    "print(\"F1 score on Test\", round((fbeta_score), 4))\n"
   ]
  },
  {
   "cell_type": "code",
   "execution_count": 11,
   "metadata": {},
   "outputs": [
    {
     "name": "stdout",
     "output_type": "stream",
     "text": [
      "F1 score on test 0.4593  with num_estimators  900\n",
      "F1 score on test 0.4573  with num_estimators  950\n",
      "F1 score on test 0.4573  with num_estimators  1000\n",
      "F1 score on test 0.4614  with num_estimators  1050\n",
      "F1 score on test 0.4614  with num_estimators  1100\n"
     ]
    },
    {
     "data": {
      "text/html": [
       "<div>\n",
       "<style scoped>\n",
       "    .dataframe tbody tr th:only-of-type {\n",
       "        vertical-align: middle;\n",
       "    }\n",
       "\n",
       "    .dataframe tbody tr th {\n",
       "        vertical-align: top;\n",
       "    }\n",
       "\n",
       "    .dataframe thead th {\n",
       "        text-align: right;\n",
       "    }\n",
       "</style>\n",
       "<table border=\"1\" class=\"dataframe\">\n",
       "  <thead>\n",
       "    <tr style=\"text-align: right;\">\n",
       "      <th></th>\n",
       "      <th>NumEstim</th>\n",
       "      <th>F1</th>\n",
       "    </tr>\n",
       "  </thead>\n",
       "  <tbody>\n",
       "    <tr>\n",
       "      <th>0</th>\n",
       "      <td>900</td>\n",
       "      <td>0.4593</td>\n",
       "    </tr>\n",
       "    <tr>\n",
       "      <th>1</th>\n",
       "      <td>950</td>\n",
       "      <td>0.4573</td>\n",
       "    </tr>\n",
       "    <tr>\n",
       "      <th>2</th>\n",
       "      <td>1000</td>\n",
       "      <td>0.4573</td>\n",
       "    </tr>\n",
       "    <tr>\n",
       "      <th>3</th>\n",
       "      <td>1050</td>\n",
       "      <td>0.4614</td>\n",
       "    </tr>\n",
       "    <tr>\n",
       "      <th>4</th>\n",
       "      <td>1100</td>\n",
       "      <td>0.4614</td>\n",
       "    </tr>\n",
       "  </tbody>\n",
       "</table>\n",
       "</div>"
      ],
      "text/plain": [
       "   NumEstim      F1\n",
       "0       900  0.4593\n",
       "1       950  0.4573\n",
       "2      1000  0.4573\n",
       "3      1050  0.4614\n",
       "4      1100  0.4614"
      ]
     },
     "execution_count": 11,
     "metadata": {},
     "output_type": "execute_result"
    }
   ],
   "source": [
    "# Optimize Num Estimators hyper paramter for best F1\n",
    "\n",
    "minRE = 900\n",
    "maxRE = 1150\n",
    "\n",
    "EpsF1 = []\n",
    "\n",
    "for TryRE in np.arange(minRE, maxRE, 50):\n",
    "    isofo = IsolationForest(\n",
    "        n_estimators=TryRE,\n",
    "        max_features=1.0,\n",
    "        max_samples=1.0,\n",
    "        bootstrap=False,\n",
    "        random_state=22,\n",
    "        contamination=PercFraud,\n",
    "    )\n",
    "\n",
    "    y_pred = isofo.fit_predict(X)\n",
    "    n_errors = (y_pred != ground_truth).sum()\n",
    "\n",
    "    y_predLOF = y_pred.copy()\n",
    "    y_predDF = pd.DataFrame(y_predLOF)\n",
    "\n",
    "    y_predDF[y_predDF[0] == 1] = 0\n",
    "    y_predDF[y_predDF[0] == -1] = 1\n",
    "\n",
    "    y_predLOF = y_predDF.values\n",
    "    y_predLOF = np.ravel(y_predLOF)\n",
    "\n",
    "    precision, recall, fbeta_score, support = precision_recall_fscore_support(\n",
    "        y_test, y_predLOF, average=\"binary\"\n",
    "    )\n",
    "\n",
    "    print(\"F1 score on test\", round(fbeta_score, 4), \" with num_estimators \", TryRE)\n",
    "    EpsF1.append([TryRE, round(fbeta_score, 4)])\n",
    "\n",
    "EpsF1df = pd.DataFrame(EpsF1, columns=[\"NumEstim\", \"F1\"])\n",
    "EpsF1df.head()\n"
   ]
  },
  {
   "cell_type": "code",
   "execution_count": 12,
   "metadata": {},
   "outputs": [
    {
     "data": {
      "image/png": "[encoded data removed]",
      "text/plain": [
       "<Figure size 432x288 with 1 Axes>"
      ]
     },
     "metadata": {
      "needs_background": "light"
     },
     "output_type": "display_data"
    }
   ],
   "source": [
    "EpsF1df.plot.line(\"NumEstim\", \"F1\")\n",
    "plt.xlim(minRE, maxRE)\n",
    "plt.title(\"F1 vs NumEstim\")\n",
    "plt.show()\n"
   ]
  },
  {
   "cell_type": "markdown",
   "metadata": {},
   "source": [
    "# Local Outlier Factor\n"
   ]
  },
  {
   "cell_type": "code",
   "execution_count": 13,
   "metadata": {},
   "outputs": [
    {
     "data": {
      "text/plain": [
       "420"
      ]
     },
     "execution_count": 13,
     "metadata": {},
     "output_type": "execute_result"
    }
   ],
   "source": [
    "from sklearn.neighbors import LocalOutlierFactor\n",
    "clf = LocalOutlierFactor(n_neighbors=900, contamination=PercFraud)\n",
    "\n",
    "y_pred = clf.fit_predict(X)\n",
    "n_errors = (y_pred != ground_truth).sum()\n",
    "X_scores = clf.negative_outlier_factor_\n",
    "n_errors\n"
   ]
  },
  {
   "cell_type": "code",
   "execution_count": 14,
   "metadata": {},
   "outputs": [
    {
     "name": "stdout",
     "output_type": "stream",
     "text": [
      "precision  0.5732\n",
      "recall  0.5732\n",
      "F1 score on Test 0.5732\n"
     ]
    }
   ],
   "source": [
    "y_predLOF = y_pred.copy()\n",
    "y_predDF = pd.DataFrame(y_predLOF)\n",
    "\n",
    "y_predDF[y_predDF[0] == 1] = 0\n",
    "y_predDF[y_predDF[0] == -1] = 1\n",
    "\n",
    "y_predLOF = y_predDF.values\n",
    "y_predLOF = np.ravel(y_predLOF)\n",
    "\n",
    "# F1 Score\n",
    "# print(\"F1 score\", round(f1_score(y_valid,pred, average='binary'), 4))\n",
    "precision, recall, fbeta_score, support = precision_recall_fscore_support(\n",
    "    y_test, y_predLOF, average=\"binary\"\n",
    ")\n",
    "print(\"precision \", round((precision), 4))\n",
    "print(\"recall \", round((recall), 4))\n",
    "print(\"F1 score on Test\", round((fbeta_score), 4))\n"
   ]
  },
  {
   "cell_type": "markdown",
   "metadata": {},
   "source": [
    "# Robust Covariance\n"
   ]
  },
  {
   "cell_type": "code",
   "execution_count": 15,
   "metadata": {},
   "outputs": [
    {
     "data": {
      "text/plain": [
       "196"
      ]
     },
     "execution_count": 15,
     "metadata": {},
     "output_type": "execute_result"
    }
   ],
   "source": [
    "from sklearn.covariance import EllipticEnvelope\n",
    "cov = EllipticEnvelope(support_fraction=0.994, contamination=PercFraud)\n",
    "\n",
    "y_pred = cov.fit_predict(X)\n",
    "n_errors = (y_pred != ground_truth).sum()\n",
    "n_errors\n"
   ]
  },
  {
   "cell_type": "code",
   "execution_count": 16,
   "metadata": {},
   "outputs": [
    {
     "name": "stdout",
     "output_type": "stream",
     "text": [
      "precision  0.8008\n",
      "recall  0.8008\n",
      "F1 score on Test 0.8008\n"
     ]
    }
   ],
   "source": [
    "y_predLOF = y_pred.copy()\n",
    "y_predDF = pd.DataFrame(y_predLOF)\n",
    "\n",
    "y_predDF[y_predDF[0] == 1] = 0\n",
    "y_predDF[y_predDF[0] == -1] = 1\n",
    "\n",
    "y_predLOF = y_predDF.values\n",
    "y_predLOF = np.ravel(y_predLOF)\n",
    "\n",
    "# F1 Score\n",
    "# print(\"F1 score\", round(f1_score(y_valid,pred, average='binary'), 4))\n",
    "precision, recall, fbeta_score, support = precision_recall_fscore_support(\n",
    "    y_test, y_predLOF, average=\"binary\"\n",
    ")\n",
    "print(\"precision \", round((precision), 4))\n",
    "print(\"recall \", round((recall), 4))\n",
    "print(\"F1 score on Test\", round((fbeta_score), 4))\n"
   ]
  },
  {
   "cell_type": "code",
   "execution_count": 17,
   "metadata": {},
   "outputs": [
    {
     "data": {
      "image/png": "[encoded data removed]",
      "text/plain": [
       "<Figure size 1080x720 with 2 Axes>"
      ]
     },
     "metadata": {
      "needs_background": "light"
     },
     "output_type": "display_data"
    },
    {
     "name": "stdout",
     "output_type": "stream",
     "text": [
      "__________________________________________________\n",
      "TP  394\n",
      "FP  98\n",
      "TN  74902\n",
      "FN  98\n"
     ]
    }
   ],
   "source": [
    "CM = confusion_matrix(y_test, y_predLOF)\n",
    "tn, fp, fn, tp = confusion_matrix(y_test, y_predLOF).ravel()\n",
    "plt.figure(figsize=(15, 10))\n",
    "sns.heatmap(CM, annot=True)\n",
    "plt.show()\n",
    "print(\"_\" * 50)\n",
    "print(\"TP \", tp)\n",
    "print(\"FP \", fp)\n",
    "print(\"TN \", tn)\n",
    "print(\"FN \", fn)\n"
   ]
  },
  {
   "cell_type": "code",
   "execution_count": 18,
   "metadata": {},
   "outputs": [
    {
     "name": "stdout",
     "output_type": "stream",
     "text": [
      "F1 score on test 0.8028  with support_fraction  0.95\n",
      "F1 score on test 0.8028  with support_fraction  0.96\n",
      "F1 score on test 0.8028  with support_fraction  0.97\n",
      "F1 score on test 0.8028  with support_fraction  0.98\n",
      "F1 score on test 0.8008  with support_fraction  0.99\n"
     ]
    },
    {
     "data": {
      "text/html": [
       "<div>\n",
       "<style scoped>\n",
       "    .dataframe tbody tr th:only-of-type {\n",
       "        vertical-align: middle;\n",
       "    }\n",
       "\n",
       "    .dataframe tbody tr th {\n",
       "        vertical-align: top;\n",
       "    }\n",
       "\n",
       "    .dataframe thead th {\n",
       "        text-align: right;\n",
       "    }\n",
       "</style>\n",
       "<table border=\"1\" class=\"dataframe\">\n",
       "  <thead>\n",
       "    <tr style=\"text-align: right;\">\n",
       "      <th></th>\n",
       "      <th>SupFrac</th>\n",
       "      <th>F1</th>\n",
       "    </tr>\n",
       "  </thead>\n",
       "  <tbody>\n",
       "    <tr>\n",
       "      <th>0</th>\n",
       "      <td>0.95</td>\n",
       "      <td>0.8028</td>\n",
       "    </tr>\n",
       "    <tr>\n",
       "      <th>1</th>\n",
       "      <td>0.96</td>\n",
       "      <td>0.8028</td>\n",
       "    </tr>\n",
       "    <tr>\n",
       "      <th>2</th>\n",
       "      <td>0.97</td>\n",
       "      <td>0.8028</td>\n",
       "    </tr>\n",
       "    <tr>\n",
       "      <th>3</th>\n",
       "      <td>0.98</td>\n",
       "      <td>0.8028</td>\n",
       "    </tr>\n",
       "    <tr>\n",
       "      <th>4</th>\n",
       "      <td>0.99</td>\n",
       "      <td>0.8008</td>\n",
       "    </tr>\n",
       "  </tbody>\n",
       "</table>\n",
       "</div>"
      ],
      "text/plain": [
       "   SupFrac      F1\n",
       "0     0.95  0.8028\n",
       "1     0.96  0.8028\n",
       "2     0.97  0.8028\n",
       "3     0.98  0.8028\n",
       "4     0.99  0.8008"
      ]
     },
     "execution_count": 18,
     "metadata": {},
     "output_type": "execute_result"
    }
   ],
   "source": [
    "# Optimize support_fraction hyper paramter for best F1\n",
    "\n",
    "minRE = 0.95\n",
    "maxRE = 0.99\n",
    "\n",
    "EpsF1 = []\n",
    "\n",
    "for TryRE in np.arange(minRE, maxRE, 0.01):\n",
    "    cov = EllipticEnvelope(support_fraction=TryRE, contamination=PercFraud)\n",
    "    y_pred = cov.fit_predict(X)\n",
    "    n_errors = (y_pred != ground_truth).sum()\n",
    "\n",
    "    y_predLOF = y_pred.copy()\n",
    "    y_predDF = pd.DataFrame(y_predLOF)\n",
    "\n",
    "    y_predDF[y_predDF[0] == 1] = 0\n",
    "    y_predDF[y_predDF[0] == -1] = 1\n",
    "\n",
    "    y_predLOF = y_predDF.values\n",
    "    y_predLOF = np.ravel(y_predLOF)\n",
    "\n",
    "    precision, recall, fbeta_score, support = precision_recall_fscore_support(\n",
    "        y_test, y_predLOF, average=\"binary\"\n",
    "    )\n",
    "\n",
    "    print(\"F1 score on test\", round(fbeta_score, 4), \" with support_fraction \", TryRE)\n",
    "    EpsF1.append([TryRE, round(fbeta_score, 4)])\n",
    "\n",
    "EpsF1df = pd.DataFrame(EpsF1, columns=[\"SupFrac\", \"F1\"])\n",
    "EpsF1df.head()\n"
   ]
  },
  {
   "cell_type": "code",
   "execution_count": 19,
   "metadata": {},
   "outputs": [
    {
     "data": {
      "image/png": "[encoded data removed]",
      "text/plain": [
       "<Figure size 432x288 with 1 Axes>"
      ]
     },
     "metadata": {
      "needs_background": "light"
     },
     "output_type": "display_data"
    }
   ],
   "source": [
    "EpsF1df.plot.line(\"SupFrac\", \"F1\")\n",
    "plt.xlim(minRE, maxRE)\n",
    "plt.title(\"F1 vs SupFrac\")\n",
    "plt.show()\n"
   ]
  },
  {
   "cell_type": "code",
   "execution_count": 23,
   "metadata": {},
   "outputs": [
    {
     "data": {
      "text/html": [
       "<div>\n",
       "<style scoped>\n",
       "    .dataframe tbody tr th:only-of-type {\n",
       "        vertical-align: middle;\n",
       "    }\n",
       "\n",
       "    .dataframe tbody tr th {\n",
       "        vertical-align: top;\n",
       "    }\n",
       "\n",
       "    .dataframe thead th {\n",
       "        text-align: right;\n",
       "    }\n",
       "</style>\n",
       "<table border=\"1\" class=\"dataframe\">\n",
       "  <thead>\n",
       "    <tr style=\"text-align: right;\">\n",
       "      <th></th>\n",
       "      <th>Isolation Forest</th>\n",
       "      <th>Local Outlier Factor</th>\n",
       "      <th>Robust Covariance</th>\n",
       "    </tr>\n",
       "  </thead>\n",
       "  <tbody>\n",
       "    <tr>\n",
       "      <th>precision</th>\n",
       "      <td>0.4614</td>\n",
       "      <td>0.5732</td>\n",
       "      <td>0.8008</td>\n",
       "    </tr>\n",
       "    <tr>\n",
       "      <th>recall</th>\n",
       "      <td>0.4614</td>\n",
       "      <td>0.5732</td>\n",
       "      <td>0.8008</td>\n",
       "    </tr>\n",
       "    <tr>\n",
       "      <th>f1</th>\n",
       "      <td>0.4614</td>\n",
       "      <td>0.5732</td>\n",
       "      <td>0.8008</td>\n",
       "    </tr>\n",
       "  </tbody>\n",
       "</table>\n",
       "</div>"
      ],
      "text/plain": [
       "           Isolation Forest  Local Outlier Factor  Robust Covariance\n",
       "precision            0.4614                0.5732             0.8008\n",
       "recall               0.4614                0.5732             0.8008\n",
       "f1                   0.4614                0.5732             0.8008"
      ]
     },
     "execution_count": 23,
     "metadata": {},
     "output_type": "execute_result"
    }
   ],
   "source": [
    "data = [[0.4614,0.4614,0.4614],[0.5732,0.5732,0.5732],[0.8008,0.8008,0.8008]]\n",
    "data = pd.DataFrame(data).T.rename({0:\"precision\",1:'recall',2:'f1'}).rename({0:\"Isolation Forest\",1:'Local Outlier Factor',2:'Robust Covariance'},axis=1)\n",
    "data"
   ]
  }
 ],
 "metadata": {
  "kernelspec": {
   "display_name": "Python 3.8.8 ('base')",
   "language": "python",
   "name": "python3"
  },
  "language_info": {
   "codemirror_mode": {
    "name": "ipython",
    "version": 3
   },
   "file_extension": ".py",
   "mimetype": "text/x-python",
   "name": "python",
   "nbconvert_exporter": "python",
   "pygments_lexer": "ipython3",
   "version": "3.8.8"
  },
  "orig_nbformat": 4,
  "vscode": {
   "interpreter": {
    "hash": "52e983d99f1ee1724ebc56d243e629cbda5dd70db685e0d43d347a5d2175e1e1"
   }
  }
 },
 "nbformat": 4,
 "nbformat_minor": 2
}
